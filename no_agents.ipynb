{
 "cells": [
  {
   "cell_type": "code",
   "execution_count": 1,
   "id": "b889cf2e-5f22-4178-9fdd-175ee8d74c66",
   "metadata": {},
   "outputs": [],
   "source": [
    "import os\n",
    "\n",
    "from openai import OpenAI\n",
    "\n",
    "\n",
    "openai_client = OpenAI(api_key=os.getenv(\"OPENAI_API_KEY\"))"
   ]
  },
  {
   "cell_type": "code",
   "execution_count": 2,
   "id": "c2c8b615-10d9-4699-860f-63af779af31c",
   "metadata": {},
   "outputs": [],
   "source": [
    "def query_model(messages, model=\"gpt-4o\"):\n",
    "    response = openai_client.chat.completions.create(\n",
    "        model=model,\n",
    "        messages=messages\n",
    "    )\n",
    "    return response.choices[0].message.content"
   ]
  },
  {
   "cell_type": "code",
   "execution_count": 3,
   "id": "4d27c972-8612-400c-a3f8-52e12f5a5be8",
   "metadata": {},
   "outputs": [
    {
     "data": {
      "text/plain": [
       "'I\\'m unable to provide real-time data, including the current response time for a website like google.com. Response times can vary based on factors such as your location, internet connection, and the server load at the time of testing.\\n\\nTo check the response time for google.com, you can use tools like:\\n\\n1. **Ping Command**: Open a command prompt or terminal and type `ping google.com`.\\n2. **Online Tools**: Use websites like Pingdom, GTmetrix, or PageSpeed Insights.\\n3. **Browser Developer Tools**: Right-click on the webpage, select \"Inspect,\" and check the \"Network\" tab in the developer tools.\\n\\nThese tools will give you an approximate measure of the response time at that moment.'"
      ]
     },
     "execution_count": 3,
     "metadata": {},
     "output_type": "execute_result"
    }
   ],
   "source": [
    "response_time_message = [\n",
    "    {\"role\": \"user\", \"content\": \"What's the response time for google.com?\"},\n",
    "    {\"role\": \"system\", \"content\": \"\"}\n",
    "]\n",
    "query_model(response_time_message)"
   ]
  },
  {
   "cell_type": "code",
   "execution_count": 4,
   "id": "98f84248-06bf-40b1-a1fe-2956e3f9dde0",
   "metadata": {},
   "outputs": [
    {
     "data": {
      "text/plain": [
       "'To find out which Python packages you have installed, you can use the following methods:\\n\\n1. **Using `pip` in the command line**:\\n   Open your command line or terminal and type:\\n   ```\\n   pip list\\n   ```\\n   This will display a list of all installed packages and their versions.\\n\\n2. **Using `conda` (if you are using Anaconda/Miniconda)**:\\n   Open your Anaconda Prompt or terminal and type:\\n   ```\\n   conda list\\n   ```\\n   This will show all installed packages in your active conda environment.\\n\\n3. **Using a Python script**:\\n   You can create and run a simple Python script that lists installed packages. Here is an example:\\n   ```python\\n   import pkg_resources\\n\\n   installed_packages = pkg_resources.working_set\\n   installed_packages_list = sorted([(i.key, i.version) for i in installed_packages])\\n   for package in installed_packages_list:\\n       print(f\"{package[0]}=={package[1]}\")\\n   ```\\n\\nThese methods will help you view the installed packages in your environment. If you have multiple Python environments, make sure you are checking the correct one.'"
      ]
     },
     "execution_count": 4,
     "metadata": {},
     "output_type": "execute_result"
    }
   ],
   "source": [
    "packages_message = [\n",
    "    {\"role\": \"user\", \"content\": \"What python packages do I have installed?\"},\n",
    "    {\"role\": \"system\", \"content\": \"\"}\n",
    "]\n",
    "query_model(packages_message)"
   ]
  },
  {
   "cell_type": "code",
   "execution_count": 5,
   "id": "70f2415d-881e-4190-b860-21a85acafc69",
   "metadata": {},
   "outputs": [
    {
     "data": {
      "text/plain": [
       "\"As of my last update, Node.js 23 has not been released, so I can't provide specific details about its features or changes. Node.js usually follows a predictable release schedule with even-numbered releases being Long-Term Support (LTS) and odd-numbered ones being Current. As of my last update, Node.js 20 was the LTS version, with Node.js 21 being the latest current release.\\n\\nFor the most up-to-date details about Node.js 23, I recommend checking the official Node.js website or their GitHub repository. These sources will have release notes and documentation listing the new features, improvements, and breaking changes introduced in the latest version. Additionally, following developer blogs or popular JavaScript and Node.js forums can provide insights and community feedback on new releases.\""
      ]
     },
     "execution_count": 5,
     "metadata": {},
     "output_type": "execute_result"
    }
   ],
   "source": [
    "python_message = [\n",
    "    {\"role\": \"user\", \"content\": \"What's new in nodejs 23?\"},\n",
    "    {\"role\": \"system\", \"content\": \"\"}\n",
    "]\n",
    "query_model(python_message)"
   ]
  },
  {
   "cell_type": "code",
   "execution_count": 6,
   "id": "a2afadea-1435-4270-af02-abf1aefdc6f8",
   "metadata": {},
   "outputs": [
    {
     "data": {
      "text/plain": [
       "\"I don't have current information about the speakers for Heapcon 2024. To get the most accurate and up-to-date information, I recommend checking the official Heapcon website or their official social media channels.\""
      ]
     },
     "execution_count": 6,
     "metadata": {},
     "output_type": "execute_result"
    }
   ],
   "source": [
    "pycon_message = [\n",
    "    {\"role\": \"user\", \"content\": \"Who are the speakers at Heapcon 2024?\"},\n",
    "    {\"role\": \"system\", \"content\": \"\"}\n",
    "]\n",
    "query_model(pycon_message)"
   ]
  },
  {
   "cell_type": "code",
   "execution_count": null,
   "id": "4c786979-f96f-42f2-b074-f88e4b118656",
   "metadata": {},
   "outputs": [],
   "source": []
  }
 ],
 "metadata": {
  "kernelspec": {
   "display_name": "Python 3 (ipykernel)",
   "language": "python",
   "name": "python3"
  },
  "language_info": {
   "codemirror_mode": {
    "name": "ipython",
    "version": 3
   },
   "file_extension": ".py",
   "mimetype": "text/x-python",
   "name": "python",
   "nbconvert_exporter": "python",
   "pygments_lexer": "ipython3",
   "version": "3.12.6"
  }
 },
 "nbformat": 4,
 "nbformat_minor": 5
}
